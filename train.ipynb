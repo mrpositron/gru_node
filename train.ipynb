{
 "cells": [
  {
   "cell_type": "code",
   "execution_count": 1,
   "metadata": {},
   "outputs": [],
   "source": [
    "%load_ext autoreload\n",
    "%autoreload 2"
   ]
  },
  {
   "cell_type": "code",
   "execution_count": 2,
   "metadata": {},
   "outputs": [],
   "source": [
    "import sys\n",
    "import os\n",
    "sys.path.append('./dataset')\n",
    "from dataset import *\n",
    "\n",
    "sys.path.append('./pytorch_pipeline')\n",
    "from ptpl import PyTorchPipeline\n",
    "\n",
    "sys.path.append('./model/')\n",
    "from model import *\n",
    "\n",
    "import torch\n",
    "import torch.nn as nn\n",
    "\n",
    "from torchdyn.models import *\n",
    "# from torchdyn.datasets import *\n",
    "from torchdyn import *\n",
    "\n",
    "import random\n",
    "from tqdm import tqdm\n"
   ]
  },
  {
   "cell_type": "code",
   "execution_count": 3,
   "metadata": {},
   "outputs": [],
   "source": [
    "torch.set_num_threads(8)"
   ]
  },
  {
   "cell_type": "code",
   "execution_count": 4,
   "metadata": {},
   "outputs": [],
   "source": [
    "hidden_dim = 64\n",
    "emb_dim = 32\n",
    "\n",
    "\n",
    "hparams = {\n",
    "    'wb' : False,\n",
    "    'hidden_dim': hidden_dim,\n",
    "    'emb_dim': emb_dim,\n",
    "    'num_epochs': 100,\n",
    "    'num_batches' : 32,\n",
    "    'path2save': \"./weights/hidden_size_\" + str(hidden_dim) + \"_emb_dim_\" + str(emb_dim) + \".pt\",\n",
    "    'learning_rate': 1e-3,\n",
    "}\n",
    "\n",
    "device = torch.device(\"cuda:0\" if torch.cuda.is_available() else \"cpu\")"
   ]
  },
  {
   "cell_type": "code",
   "execution_count": 5,
   "metadata": {},
   "outputs": [
    {
     "name": "stdout",
     "output_type": "stream",
     "text": [
      "Total number of sentences is 135842 \n",
      "\n"
     ]
    },
    {
     "name": "stderr",
     "output_type": "stream",
     "text": [
      "100%|██████████| 135842/135842 [00:00<00:00, 501270.54it/s]\n"
     ]
    },
    {
     "name": "stdout",
     "output_type": "stream",
     "text": [
      "The vocabulary size if 5384 \n",
      "\n",
      "The size of the newly created text data is 122885, 90% of the original text\n",
      "train_size:  98310\n",
      "val_size:  24575\n"
     ]
    }
   ],
   "source": [
    "# prepare data\n",
    "\n",
    "path = os.path.join(\"./data\", \"eng-fra.txt\")\n",
    "perSentence, vocab = get_loaders(path)\n",
    "vocab_size = len(vocab)\n",
    "\n",
    "trainPerSentence = {}\n",
    "valPerSentence = {}\n",
    "\n",
    "for key, values in perSentence.items():\n",
    "    arr = values[:]\n",
    "    random.shuffle(arr)\n",
    "\n",
    "    val_size = int(0.2 * len(arr))\n",
    "\n",
    "    val_arr = arr[:val_size]\n",
    "    train_arr = arr[val_size:]\n",
    "\n",
    "    trainPerSentence[key] = train_arr[:]\n",
    "    valPerSentence[key] = val_arr[:]\n",
    "\n",
    "del val_arr, train_arr, perSentence\n",
    "train_size = sum([len(value) for value in trainPerSentence.values() ])\n",
    "val_size = sum([len(value) for value in valPerSentence.values() ])\n",
    "\n",
    "\n",
    "print(\"train_size: \", train_size)\n",
    "print(\"val_size: \", val_size)"
   ]
  },
  {
   "cell_type": "code",
   "execution_count": 6,
   "metadata": {},
   "outputs": [
    {
     "name": "stdout",
     "output_type": "stream",
     "text": [
      "Your vector field callable (nn.Module) should have both time `t` and state `x` as arguments, we've wrapped it for you.\n"
     ]
    }
   ],
   "source": [
    "# define a model\n",
    "\n",
    "embedding = nn.Embedding(vocab_size, emb_dim)\n",
    "encoder = Encoder(emb_dim, hidden_dim)\n",
    "decoder = Decoder(hidden_dim, vocab_size)\n",
    "\n",
    "model = Seq2Seq(embedding, encoder, decoder)"
   ]
  },
  {
   "cell_type": "code",
   "execution_count": 7,
   "metadata": {},
   "outputs": [],
   "source": [
    "criterion = nn.CrossEntropyLoss()\n",
    "optimizer = torch.optim.Adam(model.parameters(), lr = 1e-3)"
   ]
  },
  {
   "cell_type": "code",
   "execution_count": 8,
   "metadata": {},
   "outputs": [
    {
     "name": "stdout",
     "output_type": "stream",
     "text": [
      "PyTorch pipeline for gru_node is set up\n"
     ]
    }
   ],
   "source": [
    "ptpl = PyTorchPipeline(\n",
    "    project_name = \"gru_node\",\n",
    "    configs = {\n",
    "        'device': device,\n",
    "        'criterion': criterion,\n",
    "        'optimizer': optimizer,\n",
    "        'train_dataloader': trainPerSentence,\n",
    "        'val_dataloader': valPerSentence,\n",
    "        'print_logs': True,\n",
    "        'wb': hparams['wb'],\n",
    "    },\n",
    "    hparams = hparams,\n",
    "    model = model,\n",
    ")"
   ]
  },
  {
   "cell_type": "code",
   "execution_count": 9,
   "metadata": {},
   "outputs": [
    {
     "name": "stdout",
     "output_type": "stream",
     "text": [
      "The path to save the model is not provided. Thus the model weigths will not be saved.\n"
     ]
    },
    {
     "name": "stderr",
     "output_type": "stream",
     "text": [
      "100%|██████████| 3076/3076 [02:05<00:00, 24.44it/s]\n"
     ]
    },
    {
     "name": "stdout",
     "output_type": "stream",
     "text": [
      "Epoch: 1/1 || Loss: 5.377899169921875\n"
     ]
    },
    {
     "name": "stderr",
     "output_type": "stream",
     "text": [
      "100%|██████████| 772/772 [00:13<00:00, 59.02it/s]"
     ]
    },
    {
     "name": "stdout",
     "output_type": "stream",
     "text": [
      "Validation loss is 0.1660517007112503\n"
     ]
    },
    {
     "name": "stderr",
     "output_type": "stream",
     "text": [
      "\n"
     ]
    }
   ],
   "source": [
    "ptpl.train(num_epochs= 1)"
   ]
  },
  {
   "cell_type": "code",
   "execution_count": null,
   "metadata": {},
   "outputs": [],
   "source": [
    "print(torch.get_num_threads())"
   ]
  },
  {
   "cell_type": "code",
   "execution_count": null,
   "metadata": {},
   "outputs": [],
   "source": []
  }
 ],
 "metadata": {
  "interpreter": {
   "hash": "a0975cbd9b939ec45f50e3d264ec9b47d57a929f5808edd8ce4f4fa6b6568457"
  },
  "kernelspec": {
   "display_name": "Python 3.8.12 64-bit ('torch': conda)",
   "language": "python",
   "name": "python3"
  },
  "language_info": {
   "codemirror_mode": {
    "name": "ipython",
    "version": 3
   },
   "file_extension": ".py",
   "mimetype": "text/x-python",
   "name": "python",
   "nbconvert_exporter": "python",
   "pygments_lexer": "ipython3",
   "version": "3.8.12"
  },
  "orig_nbformat": 4
 },
 "nbformat": 4,
 "nbformat_minor": 2
}
